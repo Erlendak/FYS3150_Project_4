{
 "cells": [
  {
   "cell_type": "markdown",
   "metadata": {},
   "source": [
    "# Studie av fase transisjon i magnetiske systemer"
   ]
  },
  {
   "cell_type": "markdown",
   "metadata": {},
   "source": [
    "## 1. Abstrakt"
   ]
  },
  {
   "cell_type": "markdown",
   "metadata": {},
   "source": [
    "## 2. Introduksjon\n",
    "I dette prosjektet skal vi bruke Ising modellen til å studere fase transisjon i magnetiske systemer. "
   ]
  },
  {
   "cell_type": "markdown",
   "metadata": {},
   "source": [
    "## 3.Formalisme\n",
    "For å begynne å sette opp modellen vår trenger vi å finne ut av hva energien, magnetismen. Vi bruker Ising modellen, og i dens simpleste form kan vi skrive energi utrykket vårt som:\n",
    "$$\n",
    "  E=-J\\sum_{< kl>}^{N}s_ks_l-{\\cal B}\\sum_k^Ns_k,\n",
    "$$\n",
    "    der $sk$ kan være $\\pm$ 1. N er antall spin og $J$ er en konstant som bestemmer styrken i interaksjonen mellom de forskjellige spinnene. {\\cal B} er et eksternt magnetisk felt som har en interaksjon med det magnetiske momentet som settes opp av spinnene. $<kl>$ betyr at vi bare summerer over de nærmeste naboene. \n",
    "    \n",
    "For å kunne regne ut forventningsverdiene for energien og magnetisasjonen i en gitt temperatur må vi ha en sannsynlighets distrubisjon. I dette tilfellet bruker vi Boltzmann distribusjonen. \n",
    "\n",
    "Vi bruker distribusjonen \n",
    "$$P_i(\\beta) = \\frac{e^{-\\beta E_i}}{Z}$$\n",
    "    $\\beta = \\frac{1}{kT}$, $k$ er Boltzmann konstanten, $E_i$ er energi i konfigurasjon $i$. Og Z er partisjonsfunksjonen er:\n",
    "$$Z=\\sum_{i=1}^{M}e^{-\\beta E_i}$$ der summen går over alle mikrostatene er $M$.\n",
    "\n",
    "Energien i en spesifik konfigurasjon gis ved:\n",
    "$$E_i =-J\\sum_{< kl>}^{N}s_ks_l$$.\n",
    "I vårt tilfelle har vi et $2x2$ gitter med 4 spinn som kan peke opp eller ned, så da har vi $2^4=16$ forskjellige konfigurasjoner. \n",
    "\n",
    "For å finne energien for hver av disse konfigurasjonene når vi ser på små systemer må vi ta hensyn til grensetilstandene. Vi kan velge mellom frie ender eller periodiske grensetilstander. Vi velger å bruke periodiske grensetilstander, men må huske på at svaret ikke blir det samme om vi bruker frie grensetilstander. Bruker vi periodiske grensetilstander betyr dette at vi antar at naboen til høyre for $s_N$ har verdien $s_1$. På samme måte antar vi at naboen til venstre for $s_1$ har verdien $s_N$. I vårt tilfelle får vi da at vi kan regne ut energien i hver konfigurasjon slik:\n",
    "\n",
    "$$E_i = -J\\Sigma^N_{j=1}S_j S_{j+1} $$\n",
    "Dette gir oss ; \n",
    "\n",
    "$$E = -J \\Sigma^N_{kl}s_k s_l $$\n",
    "\n",
    "Som vi kan regne ut for hver av de 16 konfigurasjonene:\n",
    "\n",
    "$$E(1, 1, 1, 1 ) = -j\\Sigma^4_kl s_k s_l = -j(2 + 2 + 2 + 2) = - j 8$$ \n",
    "$$E(-1, 1, 1, 1 ) = -j\\Sigma^4_kl s_k s_l = -j(2 + 0 + 0 -2) = 0 $$\n",
    "$$E(1, -1, 1, 1 ) = -j\\Sigma^4_kl s_k s_l = -j(0 + 2 - 2 + 0) = 0 $$\n",
    "$$E(1, 1, -1, 1 ) = -j\\Sigma^4_kl s_k s_l = -j(0 - 2 + 2 -2) = 0 $$\n",
    "$$E(1, 1, 1, -1 ) = -j\\Sigma^4_kl s_k s_l = -j(-2 + 0 + 0 2) = 0 $$\n",
    "$$E(1, 1, -1, -1 ) = -j\\Sigma^4_kl s_k s_l = -j(0 + 0 + 0 +0) = 0 $$\n",
    "$$E(-1, -1, 1, 1 ) = -j\\Sigma^4_kl s_k s_l = -j(0 + 0 + 0 +0) = 0 $$\n",
    "$$E(1, -1, -1, 1 ) = -j\\Sigma^4_kl s_k s_l = -j(0 + 0 + 0 +0) = 0 $$\n",
    "$$E(-1, 1, 1, -1 ) = -j\\Sigma^4_kl s_k s_l = -j(0 + 0 + 0 +0) = 0 $$\n",
    "$$E(-1, -1, 1, 1 ) = -j\\Sigma^4_kl s_k s_l = -j(0 + 0 + 0 +0) = 0 $$\n",
    "$$E(-1, -1, 1, 1 ) = -j\\Sigma^4_kl s_k s_l = -j(0 + 0 + 0 +0) = 0 $$\n",
    "$$E(1, -1, 1, -1 ) = -j\\Sigma^4_kl s_k s_l = -j( -2 -2  -2 -2 ) = j8 $$\n",
    "$$E(-1, 1, -1, 1 ) = -j\\Sigma^4_kl s_k s_l = -j( -2 -2  -2 -2 ) = j8 $$\n",
    "$$E(1, -1, -1, -1 ) = -j\\Sigma^4_kl s_k s_l = -j(-2 + 0 + 0 2) = 0 $$\n",
    "$$E(-1, 1, -1, -1 ) = -j\\Sigma^4_kl s_k s_l = -j(0 - 2 + 2 0) = 0 $$\n",
    "$$E(-1, -1, 1, -1 ) = -j\\Sigma^4_kl s_k s_l = -j(0 + 2 - 2 +0) = 0 $$\n",
    "$$E(-1, -1, -1, 1 ) = -j\\Sigma^4_kl s_k s_l = -j(2 + 0 + 0 -2) = 0 $$\n",
    "$$E(-1, -1, -1, -1 ) = -j\\Sigma^4_kl s_k s_l = -j(2 + 2 + 2 + 2) = - j 8$$.\n",
    "\n",
    "I tillegg til energien vil vi også regne ut magnetisasjonen. Denne finner vi ved:\n",
    " $${\\cal M}_i=\\sum_{j=1}^N s_j$$\n",
    "der vi summerer over alle spins for konfigurasjon $i$.\n",
    "\n",
    "Regner vi ut dette får vi:\n",
    "$$M(1, 1, 1, 1 ) = -j\\Sigma^4_j s_j = (1 + 1 + 1 + 1) = 4$$ \n",
    "$$M(-1, 1, 1, 1 ) = -j\\Sigma^4_j s_j = (-1 + 1 + 1 +1) = 2 $$\n",
    "$$M(1, -1, 1, 1 ) = -j\\Sigma^4_j s_j  = (1 - 1+1 +1) = 2 $$\n",
    "$$M(1, 1, -1, 1 ) = -j\\Sigma^4_j s_j = (1 + 1 -1 +1) = 2 $$\n",
    "$$M(1, 1, 1, -1 ) = -j\\Sigma^4_j s_j = (1 + 1 + 1 - 1) = 2 $$\n",
    "$$M(1, 1, -1, -1 ) = -j\\Sigma^4_j s_j = (1 + 1 + -1 -1) = 0 $$\n",
    "$$M(-1, -1, 1, 1 ) = -j\\Sigma^4_j s_j = (-1 -1 + 1 +1) = 0 $$\n",
    "$$M(1, -1, -1, 1 ) = -j\\Sigma^4_j s_j = (1 + 1 + -1 -1) = 0 $$\n",
    "$$M(-1, 1, 1, -1 ) = -j\\Sigma^4_j s_j = (-1 -1 + 1 +1) = 0 $$\n",
    "$$M(1, -1, 1, -1 ) = -j\\Sigma^4_j s_j  = ( 1 -1  +1 -1 ) = 0 $$\n",
    "$$M(-1, 1, -1, 1 ) = -j\\Sigma^4_j s_j  = ( -1 + 1 -1 +1 ) = 0 $$\n",
    "$$M(1, -1, -1, -1 ) = -j\\Sigma^4_j s_j = (1 - 1 -1 - 1) = -2 $$\n",
    "$$M(-1, 1, -1, -1 ) = -j\\Sigma^4_j s_j = (-1 + 1 -1 -1) = -2 $$\n",
    "$$M(-1, -1, 1, -1 ) = -j\\Sigma^4_j s_j  = (-1  -1 +1 -1) = -2 $$\n",
    "$$M(-1, -1, -1, 1 ) = -j\\Sigma^4_j s_j  = (-1 -1 -1 +1) = -2 $$\n",
    "$$M(-1, -1, -1, -1 ) = -j\\Sigma^4_j s_j = (1- -1 -1 -1) = -4$$ \n",
    "\n",
    "\n",
    "Vi kan sette dette opp i en tabell så det er klarere.\n",
    "\n",
    "| Antall spinn rettning opp | multipler | Energi  | Magnetisasjon | \n",
    "| --- | --- | ---   | ---       | \n",
    "|  4 | 1   | -j8 | 4 | \n",
    "|  3   | 4   |  0 | 2 | \n",
    "|  2   | 4   |  0 | 0 |\n",
    "|  2   | 2   |  j8 | 0 |\n",
    "|  1   | 4   |  0 | -2 |\n",
    "|  0   | 1   |  -j8 | -4 | \n",
    "\n",
    "Vi kan nå finne forventningsverdiene vi trenger for energi E, magnetisasjon M, spesifik varme Cv og susceptibilitet $\\chi$. "
   ]
  },
  {
   "cell_type": "markdown",
   "metadata": {},
   "source": [
    "For å kunne begynne å regne ut forventningsverdiene må vi først finne et utrykk for partisjonsfunksjonen Z. Vet at:\n",
    "$$Z=\\sum_{i=1}^{M}e^{-\\beta E_i}$$, vi vet allerede energien i alle konfigurasjoner $i$, så vi finner Z:\n",
    "\n",
    "$$Z = 12 \\cdot e^{- \\beta \\cdot 0} + 2\\cdot e ^{- 8j \\beta } + 2\\cdot e ^{-(-8j) \\beta} =12 + 4\\cdot \\frac{e ^{-8j \\beta} + e^{-(-8j) \\beta } }{2}$$\n",
    "Vi får en konstant 12 fordi vi har 12 konfiguarsjoner der energien er 0. Vi har 4 konfigurasjoner, to der energien er 8j og to der energien er -8j. Vi ser at eksponensialene kan settes sammen ved hjelp av Eulers likning.\n",
    "\n",
    "$$Z = 12 + 4\\cdot \\frac{e ^{8j \\beta} + e^{-8j \\beta}}{2} $$\n",
    "$$Z = 4\\cdot Cosh(8j \\beta) + 12 $$\n",
    "Nå som vi har partisjonsfunksjonen kan vi regne ut de andre forventningsverdiene ved hjelp av distribusjonen $P_i$.\n"
   ]
  },
  {
   "cell_type": "markdown",
   "metadata": {},
   "source": [
    "\n",
    "Starter med å regne sannsynlighetsverdien for gjennomsnittsenergien:\n",
    "$$\n",
    "\\langle E \\rangle = \\sum_{i=1}^M E_i Pi(\\beta)= \\frac{1}{Z}\\sum{i=1}^M E_ie^{-\\beta E_i}$$\n",
    "\n",
    "$$\\langle E \\rangle = \\frac{1}{4Cosh(\\beta j8) + 12}\\sum_{i=1}^M E_ie^{-\\beta E_i} $$\n",
    "\n",
    "Vi har 12 $E_i$ som gir ikke gir noe bidrag, defor ser vi kun på $E_i \\neq 0$; \n",
    "\n",
    "$$\\langle E \\rangle = \\frac{1}{4Cosh(\\beta j8) + 12}\\bigg( 2j8e^{j8\\beta} -2j8e^{-j8\\beta} \\bigg) $$\n",
    "\n",
    "$$\\langle E \\rangle = \\frac{1}{4Cosh(\\beta j8) + 12}\\bigg( 4j8(\\frac{ e^{j8\\beta} -e^{-j8\\beta}}{2}) \\bigg) $$\n",
    "\n",
    "$$\\langle E \\rangle = \\frac{1}{4Cosh(\\beta j8) + 12}\\bigg( 4j8(Sinh( j8\\beta) ) \\bigg) $$\n",
    "\n",
    "$$\\langle E \\rangle = \\frac{\\bigg( 32j \\cdot (Sinh( j8\\beta) ) \\bigg)}{4 \\cdot Cosh(\\beta j8) + 12} $$\n"
   ]
  },
  {
   "cell_type": "markdown",
   "metadata": {},
   "source": [
    "Regner så ut forventningsverdien for gjennomsnittsmagnetismen.\n",
    "\n",
    "$$\\langle {\\cal M} \\rangle = \\sum_i^M {\\cal M}_i P_i(\\beta)= \n",
    "  \\frac{1}{Z}\\sum_i^M {\\cal M}_ie^{-\\beta E_i} $$\n",
    "  \n",
    " Vi ser $M_i$ og $E_i$ ut fra tabellen vår. Vi kan da skrive:\n",
    " \n",
    " $$\\langle {\\cal M} \\rangle = (4 \\cdot 2e^0 + 4\\cdot (-2)e^0 + (4e^{-8j\\beta}) -4e^{-8j\\beta}) = 0$$\n",
    " \n",
    " Dette resultatet er ikke tilfredstillende. Vi tar altså heller absoluttverdien av gjennomsnitsmagnetismen.\n",
    " Får da:\n",
    " \n",
    "  $$\\langle {|\\cal M |} \\rangle = 4 \\cdot 2e^0 + 4\\cdot (|-2|)e^0 + 4e^{-8j\\beta}+ |-4|e^{-8j\\beta} = 16 + e^{-8j\\beta}$$\n",
    "  \n",
    "  Nå som vi vet forventningsverdi for gjennomsnittsenergi og gjennomsnittsmagnetisme kan vi finne utrykk for spesifik varme og suseptibilitet. Spesifik varme gis som:\n",
    "  \n",
    "  $$C_V= \\frac{1}{k_BT^2}\\left(\\langle E^2 \\rangle-\\langle E \\rangle^2\\right)$$\n",
    "  og suseptiblitet gis som:\n",
    " $$\\chi=\\frac{1}{k_BT}\\left(\\langle {\\cal M}^2 \\rangle-\\langle {\\cal M} \\rangle^2\\right)$$\n",
    " der $\\left(\\langle E^2 \\rangle-\\langle E \\rangle^2\\right)$ og $\\left(\\langle {\\cal M}^2 \\rangle-\\langle {\\cal M} \\rangle^2\\right)$ er den energi varians og magnetisk varians $\\sigma_E$ og $\\sigma_M$."
   ]
  },
  {
   "cell_type": "markdown",
   "metadata": {},
   "source": [
    "Vi starter med å regne ut $Cv$:\n",
    "Varianse i energi gis som:\n",
    "$$ \\sigma_E^2=\\langle E^2 \\rangle-\\langle E \\rangle^2= \\frac{1}{Z}\\sum_{i=1}^M E_i^2e^{-\\beta E_i}-\\left(\\frac{1}{Z}\\sum_{i=1}^M E_ie^{-\\beta E_i}\\right)^2.$$\n",
    "\n",
    "Vi regner først ut det første leddet:\n",
    "$$<E^2>=\\frac{1}{Z}\\sum_{i=1}^M E_i^2e^{-\\beta E_i} = \\frac{1}{Z}((-8j)^2e^{\\beta8j})+(-8j)^2e^{\\beta8j})+((8j)^2e^{-\\beta8j})+((-8j)^2e^{-\\beta8j}))$$\n",
    "\n",
    "$$<E^2>=8^2j^2\\frac{1}{Z}((e^{\\beta8j})+(e^{\\beta8j})+(e^{\\beta-8j})+(e^{\\beta-8j})) $$\n",
    "\n",
    "$$<E^2>=8^2j^2\\frac{1}{Z}\\bigg(2e^{\\beta8j}+2e^{\\beta-8j}\\bigg)$$\n",
    "\n",
    "$$<E^2>=8^2j^2\\frac{1}{Z}\\bigg(2e^{\\beta8j}+2e^{\\beta-8j}\\bigg)\\cdot \\frac{2}{2}$$\n",
    "\n",
    "$$\\underline{\\underline{<E^2>=4 \\cdot 8^2j^2\\frac{1}{Z}cosh(8j\\beta)}}$$\n",
    "\n",
    "Regner så ut for det andre leddet:\n",
    "$$<E>^2=(\\frac{1}{Z}\\sum_{i=1}^M E_ie^{-\\beta E_i})^2 = \\bigg(\\frac{1}{Z}(((-8j)e^{\\beta8j})+(-8j)e^{\\beta8j})+((8j)e^{-\\beta8j})+((-8j)e^{-\\beta8j}))\\bigg)^2$$\n",
    "\n",
    "$$ <E>^2= \\frac{1}{Z^2}\\bigg((-8j)e^{\\beta8j})+(-8j)e^{\\beta8j})+((8j)e^{-\\beta8j})+((-8j)e^{-\\beta8j}))\\bigg)^2$$\n",
    "\n",
    "$$ <E>^2 = 8^2j^2\\frac{1}{Z^2}\\bigg(2e^{\\beta8j}+2e^{-\\beta8j}\\bigg)^2$$\n",
    "\n",
    "$$ <E>^2 = 8^2j^2\\frac{1}{Z^2}\\bigg(4cosh(8j\\beta)\\bigg)^2$$\n",
    "\n",
    "$$ <E>^2 = 8^2j^2\\frac{1}{Z^2}(16cosh^2(8j\\beta)$$\n",
    "\n",
    "$$ <E>^2 = 16\\cdot8^2j^2\\frac{1}{Z^2}cosh^2(8j\\beta)$$\n",
    "\n",
    "$$\\underline{\\underline{ <E>^2 = 2^{10} \\cdot j^2\\frac{1}{Z^2}cosh^2(8j\\beta)}}$$\n",
    "\n",
    "Ut fra dette kan vi finne Cv:\n",
    "\n",
    "$$Cv = \\frac{1}{k_bT^2}<E^2>-<E>^2$$\n",
    "\n",
    "$$\\underline{ \\underline{Cv = \\frac{1}{k_bT^2}((4 \\cdot 8^2j^2\\frac{1}{Z}cosh(8j\\beta)-(2^{10} \\cdot j^2\\frac{1}{Z^2}cosh^2(8j\\beta))}}$$\n",
    "\n",
    "der Z = $4Cosh(\\beta j8) + 12$\n",
    "\n",
    "Vi kan så regne ut den suseptibiliteten $\\chi$:\n",
    "Variansen i magnetisme er gitt som:\n",
    "$$ \\sigma_ \\mathcal{M} ^2=\\langle  \\mathcal{M} ^2 \\rangle-\\langle  \\mathcal{M}  \\rangle^2= \\frac{1}{Z}\\sum_{i=1}^M  \\mathcal{M} _i^2e^{-\\beta E_i}-\\left(\\frac{1}{Z}\\sum_{i=1}^M  \\mathcal{M} _ie^{-\\beta E_i}\\right)^2.$$\n",
    "\n",
    "$$ \\sigma_ \\mathcal{M} ^2 = \\frac{1}{Z}\\sum_{i=1}^M  \\mathcal{M} _i^2e^{-\\beta E_i}-\\left(\\frac{1}{Z}\\sum_{i=1}^M  \\mathcal{M} _ie^{-\\beta E_i}\\right)^2.$$\n",
    "\n",
    "Starter igjen med å regne første ledd:\n",
    "$$<\\mathcal{M}^2> = \\frac{1}{Z}\\sum_{i=1}^M  \\mathcal{M} _i^2e^{-\\beta E_i} $$\n",
    "\n",
    "$$<\\mathcal{M}^2> = \\frac{1}{Z}\\bigg(4\\cdot2^2e^0+4\\cdot(-2)^2e^0+4^2e^{-8j\\beta}+(-4)^2e^{-8j\\beta}\\bigg) $$\n",
    "\n",
    "$$<\\mathcal{M}^2> = \\frac{1}{Z}\\bigg(32 + 4^2e^{-8j\\beta}+(-4)^2e^{-8j\\beta}\\bigg) $$\n",
    "\n",
    "$$<\\mathcal{M}^2>= 16\\frac{1}{Z}\\bigg(2 + 2e^{-8j\\beta}\\bigg) $$\n",
    "\n",
    "$$\\underline{\\underline{<\\mathcal{M}^2>= 32\\cdot \\frac{1}{Z}\\bigg(1 + e^{-8j\\beta}\\bigg)}} $$\n",
    "\n",
    "der Z = $4Cosh(\\beta j8) + 12$\n",
    "\n",
    "Regner så det andre leddet:\n",
    "$$ <\\mathcal{M}>^2 = \\left(\\frac{1}{Z}\\sum_{i=1}^M  \\mathcal{M} _ie^{-\\beta E_i}\\right)^2 $$\n",
    "\n",
    "$$<\\mathcal{M}>^2 = \\frac{1}{Z^2}\\bigg(4\\cdot2e^0+4\\cdot(-2)e^0+4e^{-8j\\beta}+(-4)e^{-8j\\beta}\\bigg)^2 $$\n",
    "\n",
    "$$<\\mathcal{M}>^2 = \\frac{1}{Z^2}\\bigg(4e^{-8j\\beta}+(-4)e^{-8j\\beta}\\bigg)^2 $$\n",
    "\n",
    "$$<\\mathcal{M}>^2 = 0 $$\n",
    "\n",
    "Dette gir ikke noe tilfredstillende svar så vi prøver med $<|\\mathcal{M}|>^2$:\n",
    "$$ <|\\mathcal{M}|>^2 = \\left(\\frac{1}{Z}\\sum_{i=1}^M  |\\mathcal{M}|_ie^{-\\beta E_i}\\right)^2 $$\n",
    "\n",
    "$$<\\mathcal{|M|}>^2 = \\frac{1}{Z^2}\\bigg(4\\cdot2e^0+4\\cdot(|-2|)e^0+4e^{-8j\\beta}+(|-4|)e^{-8j\\beta}\\bigg)^2$$\n",
    "\n",
    "$$\\underline{\\underline{<\\mathcal{|M|}>^2 = \\frac{1}{Z^2}\\bigg(16+8e^{-8j\\beta}\\bigg)^2}}$$\n",
    "\n",
    "\n",
    "Kan da sette opp et utrykk for suscepitibiliteten:\n",
    "$$\\chi = \\frac{1}{k_b T}\\bigg( \\bigg< M  ^2 \\bigg> - \\bigg< |M| \\bigg>^2 \\bigg)$$\n",
    "Mer at vi bruker $<|M|>$ her. Dette er ikke nødvendig, vi kan også bruke den uten absoluttverdi. \n",
    "Setter inn variansen:\n",
    "$$\\chi = \\frac{1}{k_b T}\\bigg( 32\\cdot \\frac{1}{Z}\\bigg(1 + e^{-8j\\beta}\\bigg) - \\frac{1}{Z^2}(16+8e^{-8j\\beta})^2 \\bigg)$$\n",
    "Det ser ikke ut til at vi lett kan forenkle dette utrykket så vi lar det stå slik."
   ]
  },
  {
   "cell_type": "markdown",
   "metadata": {},
   "source": [
    "### Metropolis\n",
    "Vi har da alle de analytiske forventningsverdiene vi trenger. Vi må nå sette opp et program for å løse dette problemet numerisk. For dette bruker vi Metropolis Algoritmen. Her trenger vi ikke partisjonsfunksjonen, siden Metropolis algoritmen bare ser på forholdet mellom sannsynligheter. Dette er bra siden partisjonsfunksjonen og PDFen kan være tung å beregne for større gittere. Vi har at nummer av konfiguarsjoner er gitt ved $2^N$, der $N = LxL$. L er lengden på gitteret. \n",
    "\n",
    "Slik setter vi opp Metropolis algoritmen:\n",
    "Vi definerer en initial tilstand med energien $E_b$ ved å posisjonere oss i en vilkårlig konfigurasjon. Vi forandrer initial konfigurasjonen ved å flippe ett av spinnene, og finner energien ved denne test tilstanden $E_t$. Finner så differansen i energi $$\\Delta E=E_t-E_b $$, der $\\Delta E$ kan være en av fem verdier. For å se dette velger vi en vilkårlig spin position x,y og antar at denne og de nærmeste naboene peker oppover. Energien fra konfiguarsjonen er da $E = -4J$. Flipper vi nå vår vilkårlig valgte spin blir $E=4J$, dette gir $\\Delta E = 8J$. Vi kan gjøre det samme for de fire andre mulighetene. Vi får da fem mulige verdier: $\\Delta E = 8J, \\Delta E = 4J, \\Delta E = 0, \\Delta E = -4J$ og $\\Delta E =-8J$. \n",
    "\n",
    "Hvis $\\Delta E \\le 0$ aksepterer vi den nye konfigurasjonen, som betyr at energien blir lavere, og vi håper på at vi beveger oss mot et energi minimum for en gitt temperatur. Men hvis $\\Delta E >  0$ kalkulerer vi $w=e^{-(\\beta \\Delta E)}$, og sammenlikner $w$ med et vilkårlig tall $r$. Hvis $r \\le w$ aksepterer vi den nye konfigurasjonen, hvis ikke beholder vi den gamle konfigurasjonen. Etter at vi har akseptert/avvist en konfigurasjon oppdaterer vi forventningsverdien vår. Vi gjentar så denne prosessen helt til vi får tilfredsstillende resultater. Hver gang vi går gjennom gitteret, for eksempel når vi har summert alle spinnene, telles dette som en Monte Carlo syklus. Vi kan tenke på en slik syklus som en måling. På slutten brude vi dividere de forskjellige forventnigsverdiene med total antall MC sykluser. Vi velger også å dele på antall spinn, da er resultatene våre for f.eks energi gitt som energy per spinn.\n"
   ]
  },
  {
   "cell_type": "markdown",
   "metadata": {},
   "source": [
    "### Fase transisjon\n",
    "En fase transisjon er en makroskopisk forandring når vi får en forandring i ett av våre eksterne parametere. F.eks høyere temperatur. Punktet der vi har fase transisjon kalles det kritiske punktet. Vi har to forskjellige typer av fase transisjon: første orden og andre orden. En viktig ting vi ser på når vi studerer fase transisjon er correlasjonslengde $\\xi$ og andre korrelasjoner som spin-spin korrelasjon. Korrelasjonslengde avhenger av ting som trykk og temperatur. \n",
    "\n",
    "Ising modellen i to dimensjoner med $\\beta = 0$ gjennomgår fase transisjon av andre grad. Dette betyr egentlig at under en gitt kritisk temperatur Tc har Ising modellen spontan magnetisasjon med $M$ ikke lik 0. Over Tc er magnetisasjonen 0. \n",
    "\n",
    "Det er mulig å vise at gjennomsnittsmagnetisasjonen for en temperatur Tc er gitt ved:\n",
    "$$\\langle {\\cal M}(T) \\rangle \\sim \\left(T-T_C\\right)^{\\beta}$$, der $\\beta=\\frac{1}{8}$. Vi får en liknende sammenheng for varme kapasiteten og susceptibilieten:\n",
    "$$C_V(T) \\sim \\left|T_C-T\\right|^{-\\alpha}$$ og $$\\chi(T) \\sim \\left|T_C-T\\right|^{-\\gamma}$$\n",
    "der $\\alpha=0$ og $\\gamma = -\\frac{7}{4}$.\n",
    "\n",
    "Korrelasjonslengden gis ved dette utrykket:\n",
    "$$  \\xi(T) \\sim \\left|T_C-T\\right|^{-\\nu}.\n",
    "\\label{eq:xi}$$\n",
    "Spinnene blir mer og mer korrelerte når vi T nærmer seg Tc, så korrelasjonslengden øker når vi kommer nærmere den kritiske temperaturen. \n",
    "\n",
    "Annen ordens fase transisjon er karakterisert ved at korrelasjonslengden går over hele systemet. Siden vi alltid må ha et endelig gitter vil $\\xi$ alltid være proportional med størrelsen på gitteret. Gjennom endelig størrelses skalering kan vi relatere oppførselen til et endelig gitter med resultatene fra et uendelig gitter.\n",
    "Vi skalerer den kritiske temperaturen til:\n",
    " \n",
    " $$T_C(L)-T_C(L=\\infty) \\propto aL^{-1/\\nu}\n",
    "\\label{eq:tc}$$\n",
    "der a er en konstant og $\\nu$ er definert ut fra utrykket for korrelasjonslengde.\n",
    "Den nye korrelasjonslengden for et enedelig gitter blir gitt ved:\n",
    "\n",
    "$$ \\xi(T) \\propto L\\sim \\left|T_C-T\\right|^{-\\nu}$$.\n",
    " Setter vi $T = T_c$ kan vi få følgende utrykk for magnetisasjon, susceptibilitet og energi når $T \\le T_C$:\n",
    "$$  \\langle {\\cal M}(T) \\rangle \\sim \\left(T-T_C\\right)^{\\beta}\n",
    "  \\propto L^{-\\beta/\\nu}$$ for magnetisasjon,\n",
    " $$C_V(T) \\sim \\left|T_C-T\\right|^{-\\gamma} \\propto L^{\\alpha/\\nu}$$\n",
    "  for varmekapasitet og\n",
    " $$\\chi(T) \\sim \\left|T_C-T\\right|^{-\\alpha} \\propto L^{\\gamma/\\nu}$$ \n",
    "   for susceptiblitet.\n",
    " \n",
    " Med denne informasjonen kan vi plotte de forskjellige størrelsene våre og analysere hva som skjer med fasetransisjonen."
   ]
  },
  {
   "cell_type": "markdown",
   "metadata": {},
   "source": [
    "### Om koden\n"
   ]
  },
  {
   "cell_type": "markdown",
   "metadata": {},
   "source": [
    "## Oppgave 4. a)  Hush å implementer \\cal M $\\cal M$\n",
    "\n"
   ]
  },
  {
   "cell_type": "markdown",
   "metadata": {},
   "source": [
    "Energien til latticen kan vi uttrykke analytisk ved\n",
    "\n",
    "$$E_i = -J\\Sigma^N_{j=1}S_j S_{j+1} $$\n",
    "Dette gir oss ; \n",
    "\n",
    "$$E = -J(S_1 S_2+ S_2 S_1) $$\n",
    "\n",
    "$$E = -J \\Sigma^N_{kl}s_k s_l $$\n"
   ]
  },
  {
   "cell_type": "markdown",
   "metadata": {},
   "source": [
    "\n",
    "\n",
    "$$M_i = \\Sigma^N_{j=1} S_j  $$\n",
    "    \n"
   ]
  },
  {
   "cell_type": "markdown",
   "metadata": {},
   "source": []
  },
  {
   "cell_type": "markdown",
   "metadata": {},
   "source": [
    "| E | multipler |  \n",
    "| --- | --- |  \n",
    "|  $E_1$ | -j8 |  \n",
    "|  $E_2$ | 0   |  \n",
    "|  $E_3$ | j8  | \n"
   ]
  },
  {
   "cell_type": "markdown",
   "metadata": {},
   "source": [
    "\n",
    "$$Z = \\Sigma^N_{i=1} e ^{\\Delta Ei\\beta} \\hspace{2cm}  $$"
   ]
  },
  {
   "cell_type": "markdown",
   "metadata": {},
   "source": []
  },
  {
   "cell_type": "markdown",
   "metadata": {},
   "source": [
    "# Utregning av variance\n",
    "\n",
    "$\\sigma_E$ = \n",
    "$$ \\sigma_E^2=\\langle E^2 \\rangle-\\langle E \\rangle^2= \\frac{1}{Z}\\sum_{i=1}^M E_i^2e^{-\\beta E_i}-\\left(\\frac{1}{Z}\\sum_{i=1}^M E_ie^{-\\beta E_i}\\right)^2.$$\n",
    "\n",
    "$$\\frac{1}{Z^2}\\Sigma^M_{i=1}E_i^2 e^{-\\beta E_i}= \\frac{1}{Z^2}((-8je^{\\beta8j})^2+-8je^{\\beta8j})^2+(8je^{\\beta-8j})^2+(-8je^{\\beta-8j})^2 )$$\n",
    "\n",
    "\n",
    "\n",
    "$$ \\frac{1}{Z^2}(64j^2e^{\\beta16j}+64j^2 e^{\\beta16j}+64j^2 e^{\\beta-16j}+64j^2 e^{\\beta-16j})$$\n",
    "\n",
    "$$ 64j^2 \\frac{1}{Z^2}(e^{\\beta16j}+e^{\\beta16j}+e^{\\beta-16j}+e^{\\beta-16j})$$\n",
    "\n",
    "Ser at vi har noe som vi kan forme om til cosh(x). Får da:\n",
    "\n",
    "$$ 4\\cdot 64j^2 \\frac{1}{Z^2}(cosh(16j\\beta))$$, der \n",
    "$$Z^2 = (12+sinh(\\beta8j))^2 $$\n",
    "\n",
    "\n",
    "$$\\bigg< E^2 \\bigg> - \\bigg< E \\bigg>^2 = 4\\cdot 64 j^2 \\bigg( \\frac{Cosh(8 j \\beta)}{12+4 Sinh(\\beta 8j)}- \\frac{Cosh(16 j \\beta)}{(12+4 Sinh(\\beta 8j))^2} \\bigg) $$"
   ]
  },
  {
   "cell_type": "markdown",
   "metadata": {},
   "source": [
    " $$ C_V= \\frac{1}{k_BT^2}\\left(\\langle E^2 \\rangle-\\langle E \\rangle^2\\right) $$\n",
    "  $$ C_V= \\frac{1}{k_BT^2}\\left(4\\cdot 64 j^2 \\bigg( \\frac{Cosh(8 j \\beta)}{12+4 Sinh(\\beta 8j)}- \\frac{Cosh(16 j \\beta)}{(12+4 Sinh(\\beta 8j))^2} \\bigg) \\right)$$"
   ]
  },
  {
   "cell_type": "code",
   "execution_count": null,
   "metadata": {},
   "outputs": [],
   "source": [
    "t = 1\n",
    "Cv = 0.001 -0.005"
   ]
  },
  {
   "cell_type": "markdown",
   "metadata": {},
   "source": [
    "# End"
   ]
  },
  {
   "cell_type": "markdown",
   "metadata": {},
   "source": [
    "$$\\bigg( \\bigg< E^2 \\bigg> - \\bigg< E \\bigg>^2 \\bigg)  = \\frac{1}{Z}\\Sigma^N_{i=1}E_i^2 e^{-\\beta E_i}- \\biggr( \\frac{1}{Z} \\Sigma^N_{i=1}E_i e^{-\\beta E_i} \\biggr)$$"
   ]
  },
  {
   "cell_type": "markdown",
   "metadata": {},
   "source": [
    "$$Z = 4Cosh(\\beta j8) + 12$$\n",
    "\n",
    "$$\\bigg< E^2 \\bigg> - \\bigg< E \\bigg>^2 =  \\frac{1}{4Cosh(\\beta j8) + 12}\\Sigma^N_{i=1}E_i^2 e^{-\\beta E_i}- \\biggr( \\frac{1}{4Cosh(\\beta j8) + 12} \\Sigma^N_{i=1}E_i e^{-\\beta E_i} \\biggr)$$"
   ]
  },
  {
   "cell_type": "markdown",
   "metadata": {},
   "source": [
    "susceptibiliteten til systemet kan vi uttrykke slik ; \n",
    "\n",
    "$$\\chi = \\frac{1}{k_b T}\\bigg( \\bigg< M  ^2 \\bigg> - \\bigg< M \\bigg>^2 \\bigg)$$\n",
    "\n",
    "$$\\bigg< \\cal M^2 \\bigg> - \\bigg< \\cal M \\bigg>^2 =  \\frac{1}{\\Sigma^N_{i=1} e ^{- E_i\\beta}}\\Sigma^N_{i=1}M_i^2 e^{-\\beta E_i}- \\biggr( \\frac{1}{\\Sigma^N_{i=1} e ^{- E_i\\beta}} \\Sigma^N_{i=1}M_i e^{-\\beta E_i} \\biggr)$$"
   ]
  },
  {
   "cell_type": "code",
   "execution_count": null,
   "metadata": {},
   "outputs": [],
   "source": []
  }
 ],
 "metadata": {
  "kernelspec": {
   "display_name": "Python 3",
   "language": "python",
   "name": "python3"
  },
  "language_info": {
   "codemirror_mode": {
    "name": "ipython",
    "version": 3
   },
   "file_extension": ".py",
   "mimetype": "text/x-python",
   "name": "python",
   "nbconvert_exporter": "python",
   "pygments_lexer": "ipython3",
   "version": "3.7.1"
  }
 },
 "nbformat": 4,
 "nbformat_minor": 2
}
