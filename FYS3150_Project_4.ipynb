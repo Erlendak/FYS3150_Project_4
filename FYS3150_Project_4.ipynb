{
 "cells": [
  {
   "cell_type": "markdown",
   "metadata": {},
   "source": [
    "### Oppgave 4. a)  Hush å implementer \\cal M $\\cal M$\n",
    "\n"
   ]
  },
  {
   "cell_type": "markdown",
   "metadata": {},
   "source": [
    "Energien til latticen kan vi uttrykke analytisk ved\n",
    "\n",
    "$$E_i = -J\\Sigma^N_{j=1}S_j S_{j+1} $$\n",
    "Dette gir oss ; \n",
    "\n",
    "$$E = -J(S_1 S_2+ S_2 S_1) $$\n",
    "\n",
    "$$E = -J \\Sigma^N_{kl}s_k s_l $$\n"
   ]
  },
  {
   "cell_type": "markdown",
   "metadata": {},
   "source": [
    "$$E(1, 1, 1, 1 ) = -j\\Sigma^4_kl s_k s_l = -j(2 + 2 + 2 + 2) = - j 8$$ \n",
    "$$E(-1, 1, 1, 1 ) = -j\\Sigma^4_kl s_k s_l = -j(2 + 0 + 0 -2) = 0 $$\n",
    "$$E(1, -1, 1, 1 ) = -j\\Sigma^4_kl s_k s_l = -j(0 + 2 - 2 + 0) = 0 $$\n",
    "$$E(1, 1, -1, 1 ) = -j\\Sigma^4_kl s_k s_l = -j(0 - 2 + 2 -2) = 0 $$\n",
    "$$E(1, 1, 1, -1 ) = -j\\Sigma^4_kl s_k s_l = -j(-2 + 0 + 0 2) = 0 $$\n",
    "$$E(1, 1, -1, -1 ) = -j\\Sigma^4_kl s_k s_l = -j(0 + 0 + 0 +0) = 0 $$\n",
    "$$E(-1, -1, 1, 1 ) = -j\\Sigma^4_kl s_k s_l = -j(0 + 0 + 0 +0) = 0 $$\n",
    "$$E(1, -1, -1, 1 ) = -j\\Sigma^4_kl s_k s_l = -j(0 + 0 + 0 +0) = 0 $$\n",
    "$$E(-1, 1, 1, -1 ) = -j\\Sigma^4_kl s_k s_l = -j(0 + 0 + 0 +0) = 0 $$\n",
    "$$E(-1, -1, 1, 1 ) = -j\\Sigma^4_kl s_k s_l = -j(0 + 0 + 0 +0) = 0 $$\n",
    "$$E(-1, -1, 1, 1 ) = -j\\Sigma^4_kl s_k s_l = -j(0 + 0 + 0 +0) = 0 $$\n",
    "$$E(1, -1, 1, -1 ) = -j\\Sigma^4_kl s_k s_l = -j( -2 -2  -2 -2 ) = j8 $$\n",
    "$$E(-1, 1, -1, 1 ) = -j\\Sigma^4_kl s_k s_l = -j( -2 -2  -2 -2 ) = j8 $$\n",
    "$$E(1, -1, -1, -1 ) = -j\\Sigma^4_kl s_k s_l = -j(-2 + 0 + 0 2) = 0 $$\n",
    "$$E(-1, 1, -1, -1 ) = -j\\Sigma^4_kl s_k s_l = -j(0 - 2 + 2 0) = 0 $$\n",
    "$$E(-1, -1, 1, -1 ) = -j\\Sigma^4_kl s_k s_l = -j(0 + 2 - 2 +0) = 0 $$\n",
    "$$E(-1, -1, -1, 1 ) = -j\\Sigma^4_kl s_k s_l = -j(2 + 0 + 0 -2) = 0 $$\n",
    "$$E(-1, -1, -1, -1 ) = -j\\Sigma^4_kl s_k s_l = -j(2 + 2 + 2 + 2) = - j 8$$\n",
    "\n",
    "$$M_i = \\Sigma^N_{j=1} S_j  $$\n",
    "    \n",
    "$$M(1, 1, 1, 1 ) = -j\\Sigma^4_j s_j = (1 + 1 + 1 + 1) = 4$$ \n",
    "$$M(-1, 1, 1, 1 ) = -j\\Sigma^4_j s_j = (-1 + 1 + 1 +1) = 2 $$\n",
    "$$M(1, -1, 1, 1 ) = -j\\Sigma^4_j s_j  = (1 - 1+1 +1) = 2 $$\n",
    "$$M(1, 1, -1, 1 ) = -j\\Sigma^4_j s_j = (1 + 1 -1 +1) = 2 $$\n",
    "$$M(1, 1, 1, -1 ) = -j\\Sigma^4_j s_j = (1 + 1 + 1 - 1) = 2 $$\n",
    "$$M(1, 1, -1, -1 ) = -j\\Sigma^4_j s_j = (1 + 1 + -1 -1) = 0 $$\n",
    "$$M(-1, -1, 1, 1 ) = -j\\Sigma^4_j s_j = (-1 -1 + 1 +1) = 0 $$\n",
    "$$M(1, -1, -1, 1 ) = -j\\Sigma^4_j s_j = (1 + 1 + -1 -1) = 0 $$\n",
    "$$M(-1, 1, 1, -1 ) = -j\\Sigma^4_j s_j = (-1 -1 + 1 +1) = 0 $$\n",
    "$$M(1, -1, 1, -1 ) = -j\\Sigma^4_j s_j  = ( 1 -1  +1 -1 ) = 0 $$\n",
    "$$M(-1, 1, -1, 1 ) = -j\\Sigma^4_j s_j  = ( -1 + 1 -1 +1 ) = 0 $$\n",
    "$$M(1, -1, -1, -1 ) = -j\\Sigma^4_j s_j = (1 - 1 -1 - 1) = -2 $$\n",
    "$$M(-1, 1, -1, -1 ) = -j\\Sigma^4_j s_j = (-1 + 1 -1 -1) = -2 $$\n",
    "$$M(-1, -1, 1, -1 ) = -j\\Sigma^4_j s_j  = (-1  -1 +1 -1) = -2 $$\n",
    "$$M(-1, -1, -1, 1 ) = -j\\Sigma^4_j s_j  = (-1 -1 -1 +1) = -2 $$\n",
    "$$M(-1, -1, -1, -1 ) = -j\\Sigma^4_j s_j = (1- -1 -1 -1) = -4$$ "
   ]
  },
  {
   "cell_type": "markdown",
   "metadata": {},
   "source": [
    "| Antall spinn rettning opp | multipler | Energi  | Magnetisasjon | \n",
    "| --- | --- | ---   | ---       | \n",
    "|  4 | 1   | -j8 | 4 | \n",
    "|  3   | 4   |  0 | 2 | \n",
    "|  2   | 4   |  0 | 0 |\n",
    "|  2   | 2   |  j8 | 0 |\n",
    "|  1   | 4   |  0 | -2 |\n",
    "|  0   | 1   |  -j8 | -4 | "
   ]
  },
  {
   "cell_type": "markdown",
   "metadata": {},
   "source": [
    "| E | multipler |  \n",
    "| --- | --- |  \n",
    "|  $E_1$ | -j8 |  \n",
    "|  $E_2$ | 0   |  \n",
    "|  $E_3$ | j8  | \n"
   ]
  },
  {
   "cell_type": "markdown",
   "metadata": {},
   "source": [
    "$$Z = \\Sigma^N_{i=1} e ^{- \\beta  Ei} $$\n",
    "$$Z = 12 e ^{- \\beta  0} + 2e ^{- \\beta  j8} + 2e ^{- \\beta ( -j8) } =12 + 4\\frac{e ^{- \\beta  j8} + e ^{- \\beta ( -j8) } }{2}$$\n",
    "\n",
    "$$Z = 12 + 4\\frac{e ^{ \\beta  j8} + e ^{- \\beta j8 } }{2} $$\n",
    "$$Z = 4Cosh(\\beta j8) + 12 $$\n",
    "\n",
    "Check ; \n",
    "$$Z = 4 Cosh(\\beta j)+12 $$\n",
    "\n",
    "$$Z = \\Sigma^N_{i=1} e ^{\\Delta Ei\\beta} \\hspace{2cm}  $$"
   ]
  },
  {
   "cell_type": "markdown",
   "metadata": {},
   "source": [
    "$$\n",
    "\\langle E \\rangle = \\sum_{i=1}^M E_i Pi(\\beta)= \\frac{1}{Z}\\sum{i=1}^M E_ie^{-\\beta E_i}$$\n",
    "\n",
    "$$\\langle E \\rangle = \\frac{1}{4Cosh(\\beta j8) + 12}\\sum_{i=1}^M E_ie^{-\\beta E_i} $$\n",
    "\n",
    "Vi har 12 $E_i$ som gir ikke gir noe bidrag, defor ser vi kun på $E_i \\neq 0$; \n",
    "\n",
    "$$\\langle E \\rangle = \\frac{1}{4Cosh(\\beta j8) + 12}\\bigg( 2j8e^{j8\\beta} -2j8e^{-j8\\beta} \\bigg) $$\n",
    "\n",
    "$$\\langle E \\rangle = \\frac{1}{4Cosh(\\beta j8) + 12}\\bigg( 4j8(\\frac{ e^{j8\\beta} -e^{-j8\\beta}}{2}) \\bigg) $$\n",
    "\n",
    "$$\\langle E \\rangle = \\frac{1}{4Cosh(\\beta j8) + 12}\\bigg( 4j8(Sinh( j8\\beta) ) \\bigg) $$\n",
    "\n",
    "$$\\langle E \\rangle = \\frac{\\bigg( 4j8(Sinh( j8\\beta) ) \\bigg)}{4Cosh(\\beta j8) + 12} $$"
   ]
  },
  {
   "cell_type": "markdown",
   "metadata": {},
   "source": [
    "# Utregning av variance\n",
    "\n",
    "$\\sigma_E$ = \n",
    "$$ \\sigma_E^2=\\langle E^2 \\rangle-\\langle E \\rangle^2= \\frac{1}{Z}\\sum_{i=1}^M E_i^2e^{-\\beta E_i}-\\left(\\frac{1}{Z}\\sum_{i=1}^M E_ie^{-\\beta E_i}\\right)^2.$$\n",
    "\n",
    "$$\\frac{1}{Z^2}\\Sigma^M_{i=1}E_i^2 e^{-\\beta E_i}= \\frac{1}{Z^2}((-8je^{\\beta8j})^2+-8je^{\\beta8j})^2+(8je^{\\beta-8j})^2+(-8je^{\\beta-8j})^2 )$$\n",
    "\n",
    "\n",
    "\n",
    "$$ \\frac{1}{Z^2}(64j^2e^{\\beta16j}+64j^2 e^{\\beta16j}+64j^2 e^{\\beta-16j}+64j^2 e^{\\beta-16j})$$\n",
    "\n",
    "$$ 64j^2 \\frac{1}{Z^2}(e^{\\beta16j}+e^{\\beta16j}+e^{\\beta-16j}+e^{\\beta-16j})$$\n",
    "\n",
    "Ser at vi har noe som vi kan forme om til cosh(x). Får da:\n",
    "\n",
    "$$ 4\\cdot 64j^2 \\frac{1}{Z^2}(cosh(16j\\beta))$$, der \n",
    "$$Z^2 = (12+sinh(\\beta8j))^2 $$\n",
    "\n",
    "\n",
    "$$\\bigg< E^2 \\bigg> - \\bigg< E \\bigg>^2 = 4\\cdot 64 j^2 \\bigg( \\frac{Cosh(8 j \\beta)}{12+4 Sinh(\\beta 8j)}- \\frac{Cosh(16 j \\beta)}{(12+4 Sinh(\\beta 8j))^2} \\bigg) $$"
   ]
  },
  {
   "cell_type": "markdown",
   "metadata": {},
   "source": [
    " $$ C_V= \\frac{1}{k_BT^2}\\left(\\langle E^2 \\rangle-\\langle E \\rangle^2\\right) $$\n",
    "  $$ C_V= \\frac{1}{k_BT^2}\\left(4\\cdot 64 j^2 \\bigg( \\frac{Cosh(8 j \\beta)}{12+4 Sinh(\\beta 8j)}- \\frac{Cosh(16 j \\beta)}{(12+4 Sinh(\\beta 8j))^2} \\bigg) \\right)$$"
   ]
  },
  {
   "cell_type": "code",
   "execution_count": null,
   "metadata": {},
   "outputs": [],
   "source": [
    "t = 1\n",
    "Cv = 0.001 -0.005"
   ]
  },
  {
   "cell_type": "markdown",
   "metadata": {},
   "source": [
    "# End"
   ]
  },
  {
   "cell_type": "markdown",
   "metadata": {},
   "source": [
    "$$\\bigg( \\bigg< E^2 \\bigg> - \\bigg< E \\bigg>^2 \\bigg)  = \\frac{1}{Z}\\Sigma^N_{i=1}E_i^2 e^{-\\beta E_i}- \\biggr( \\frac{1}{Z} \\Sigma^N_{i=1}E_i e^{-\\beta E_i} \\biggr)$$"
   ]
  },
  {
   "cell_type": "markdown",
   "metadata": {},
   "source": [
    "$$Z = 4Cosh(\\beta j8) + 12$$\n",
    "\n",
    "$$\\bigg< E^2 \\bigg> - \\bigg< E \\bigg>^2 =  \\frac{1}{4Cosh(\\beta j8) + 12}\\Sigma^N_{i=1}E_i^2 e^{-\\beta E_i}- \\biggr( \\frac{1}{4Cosh(\\beta j8) + 12} \\Sigma^N_{i=1}E_i e^{-\\beta E_i} \\biggr)$$"
   ]
  },
  {
   "cell_type": "markdown",
   "metadata": {},
   "source": [
    "susceptibiliteten til systemet kan vi uttrykke slik ; \n",
    "\n",
    "$$\\chi = \\frac{1}{k_b T}\\bigg( \\bigg< M  ^2 \\bigg> - \\bigg< M \\bigg>^2 \\bigg)$$\n",
    "\n",
    "$$\\bigg< \\cal M^2 \\bigg> - \\bigg< \\cal M \\bigg>^2 =  \\frac{1}{\\Sigma^N_{i=1} e ^{- E_i\\beta}}\\Sigma^N_{i=1}M_i^2 e^{-\\beta E_i}- \\biggr( \\frac{1}{\\Sigma^N_{i=1} e ^{- E_i\\beta}} \\Sigma^N_{i=1}M_i e^{-\\beta E_i} \\biggr)$$"
   ]
  },
  {
   "cell_type": "code",
   "execution_count": null,
   "metadata": {},
   "outputs": [],
   "source": []
  }
 ],
 "metadata": {
  "kernelspec": {
   "display_name": "Python 3",
   "language": "python",
   "name": "python3"
  },
  "language_info": {
   "codemirror_mode": {
    "name": "ipython",
    "version": 3
   },
   "file_extension": ".py",
   "mimetype": "text/x-python",
   "name": "python",
   "nbconvert_exporter": "python",
   "pygments_lexer": "ipython3",
   "version": "3.6.7"
  }
 },
 "nbformat": 4,
 "nbformat_minor": 2
}
